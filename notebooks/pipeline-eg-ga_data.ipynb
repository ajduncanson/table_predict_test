{
 "metadata": {
  "language_info": {
   "codemirror_mode": {
    "name": "ipython",
    "version": 3
   },
   "file_extension": ".py",
   "mimetype": "text/x-python",
   "name": "python",
   "nbconvert_exporter": "python",
   "pygments_lexer": "ipython3",
   "version": "3.8.6-final"
  },
  "orig_nbformat": 2,
  "kernelspec": {
   "name": "python3",
   "display_name": "Python 3.8.6 64-bit ('3.8.6')",
   "metadata": {
    "interpreter": {
     "hash": "70912cbce0281860644973be61c369c1f6785da02fa830bc7dac005d3abbcb2e"
    }
   }
  }
 },
 "nbformat": 4,
 "nbformat_minor": 2,
 "cells": [
  {
   "cell_type": "code",
   "execution_count": 73,
   "metadata": {},
   "outputs": [
    {
     "output_type": "stream",
     "name": "stdout",
     "text": [
      "Requirement already satisfied: scikit-learn in /Users/aj/.pyenv/versions/3.8.6/lib/python3.8/site-packages (0.23.2)\n",
      "Collecting imblearn\n",
      "  Downloading imblearn-0.0-py2.py3-none-any.whl (1.9 kB)\n",
      "Requirement already satisfied: scipy in /Users/aj/.pyenv/versions/3.8.6/lib/python3.8/site-packages (1.5.4)\n",
      "Requirement already satisfied: matplotlib in /Users/aj/.pyenv/versions/3.8.6/lib/python3.8/site-packages (3.3.3)\n",
      "Requirement already satisfied: numpy in /Users/aj/.pyenv/versions/3.8.6/lib/python3.8/site-packages (1.19.4)\n",
      "Requirement already satisfied: pandas in /Users/aj/.pyenv/versions/3.8.6/lib/python3.8/site-packages (1.1.4)\n",
      "Requirement already satisfied: pandas-profiling in /Users/aj/.pyenv/versions/3.8.6/lib/python3.8/site-packages (2.9.0)\n",
      "Requirement already satisfied: seaborn in /Users/aj/.pyenv/versions/3.8.6/lib/python3.8/site-packages (0.11.0)\n",
      "Requirement already satisfied: threadpoolctl>=2.0.0 in /Users/aj/.pyenv/versions/3.8.6/lib/python3.8/site-packages (from scikit-learn) (2.1.0)\n",
      "Requirement already satisfied: joblib>=0.11 in /Users/aj/.pyenv/versions/3.8.6/lib/python3.8/site-packages (from scikit-learn) (0.17.0)\n",
      "Collecting imbalanced-learn\n",
      "  Downloading imbalanced_learn-0.7.0-py3-none-any.whl (167 kB)\n",
      "\u001b[K     |████████████████████████████████| 167 kB 4.1 MB/s \n",
      "\u001b[?25hRequirement already satisfied: kiwisolver>=1.0.1 in /Users/aj/.pyenv/versions/3.8.6/lib/python3.8/site-packages (from matplotlib) (1.3.1)\n",
      "Requirement already satisfied: python-dateutil>=2.1 in /Users/aj/.pyenv/versions/3.8.6/lib/python3.8/site-packages (from matplotlib) (2.8.1)\n",
      "Requirement already satisfied: pillow>=6.2.0 in /Users/aj/.pyenv/versions/3.8.6/lib/python3.8/site-packages (from matplotlib) (8.0.1)\n",
      "Requirement already satisfied: pyparsing!=2.0.4,!=2.1.2,!=2.1.6,>=2.0.3 in /Users/aj/.pyenv/versions/3.8.6/lib/python3.8/site-packages (from matplotlib) (2.4.7)\n",
      "Requirement already satisfied: cycler>=0.10 in /Users/aj/.pyenv/versions/3.8.6/lib/python3.8/site-packages (from matplotlib) (0.10.0)\n",
      "Requirement already satisfied: pytz>=2017.2 in /Users/aj/.pyenv/versions/3.8.6/lib/python3.8/site-packages (from pandas) (2020.4)\n",
      "Requirement already satisfied: missingno>=0.4.2 in /Users/aj/.pyenv/versions/3.8.6/lib/python3.8/site-packages (from pandas-profiling) (0.4.2)\n",
      "Requirement already satisfied: confuse>=1.0.0 in /Users/aj/.pyenv/versions/3.8.6/lib/python3.8/site-packages (from pandas-profiling) (1.4.0)\n",
      "Requirement already satisfied: ipywidgets>=7.5.1 in /Users/aj/.pyenv/versions/3.8.6/lib/python3.8/site-packages (from pandas-profiling) (7.5.1)\n",
      "Requirement already satisfied: requests>=2.23.0 in /Users/aj/.pyenv/versions/3.8.6/lib/python3.8/site-packages (from pandas-profiling) (2.25.0)\n",
      "Requirement already satisfied: tqdm>=4.43.0 in /Users/aj/.pyenv/versions/3.8.6/lib/python3.8/site-packages (from pandas-profiling) (4.53.0)\n",
      "Requirement already satisfied: jinja2>=2.11.1 in /Users/aj/.pyenv/versions/3.8.6/lib/python3.8/site-packages (from pandas-profiling) (2.11.2)\n",
      "Requirement already satisfied: htmlmin>=0.1.12 in /Users/aj/.pyenv/versions/3.8.6/lib/python3.8/site-packages (from pandas-profiling) (0.1.12)\n",
      "Requirement already satisfied: phik>=0.9.10 in /Users/aj/.pyenv/versions/3.8.6/lib/python3.8/site-packages (from pandas-profiling) (0.10.0)\n",
      "Requirement already satisfied: visions[type_image_path]==0.5.0 in /Users/aj/.pyenv/versions/3.8.6/lib/python3.8/site-packages (from pandas-profiling) (0.5.0)\n",
      "Requirement already satisfied: tangled-up-in-unicode>=0.0.6 in /Users/aj/.pyenv/versions/3.8.6/lib/python3.8/site-packages (from pandas-profiling) (0.0.6)\n",
      "Requirement already satisfied: attrs>=19.3.0 in /Users/aj/.pyenv/versions/3.8.6/lib/python3.8/site-packages (from pandas-profiling) (20.3.0)\n",
      "Requirement already satisfied: six>=1.5 in /Users/aj/.pyenv/versions/3.8.6/lib/python3.8/site-packages (from python-dateutil>=2.1->matplotlib) (1.15.0)\n",
      "Requirement already satisfied: pyyaml in /Users/aj/.pyenv/versions/3.8.6/lib/python3.8/site-packages (from confuse>=1.0.0->pandas-profiling) (5.3.1)\n",
      "Requirement already satisfied: ipython>=4.0.0; python_version >= \"3.3\" in /Users/aj/.pyenv/versions/3.8.6/lib/python3.8/site-packages (from ipywidgets>=7.5.1->pandas-profiling) (7.19.0)\n",
      "Requirement already satisfied: widgetsnbextension~=3.5.0 in /Users/aj/.pyenv/versions/3.8.6/lib/python3.8/site-packages (from ipywidgets>=7.5.1->pandas-profiling) (3.5.1)\n",
      "Requirement already satisfied: traitlets>=4.3.1 in /Users/aj/.pyenv/versions/3.8.6/lib/python3.8/site-packages (from ipywidgets>=7.5.1->pandas-profiling) (5.0.5)\n",
      "Requirement already satisfied: nbformat>=4.2.0 in /Users/aj/.pyenv/versions/3.8.6/lib/python3.8/site-packages (from ipywidgets>=7.5.1->pandas-profiling) (5.0.8)\n",
      "Requirement already satisfied: ipykernel>=4.5.1 in /Users/aj/.pyenv/versions/3.8.6/lib/python3.8/site-packages (from ipywidgets>=7.5.1->pandas-profiling) (5.3.4)\n",
      "Requirement already satisfied: chardet<4,>=3.0.2 in /Users/aj/.pyenv/versions/3.8.6/lib/python3.8/site-packages (from requests>=2.23.0->pandas-profiling) (3.0.4)\n",
      "Requirement already satisfied: urllib3<1.27,>=1.21.1 in /Users/aj/.pyenv/versions/3.8.6/lib/python3.8/site-packages (from requests>=2.23.0->pandas-profiling) (1.26.2)\n",
      "Requirement already satisfied: idna<3,>=2.5 in /Users/aj/.pyenv/versions/3.8.6/lib/python3.8/site-packages (from requests>=2.23.0->pandas-profiling) (2.10)\n",
      "Requirement already satisfied: certifi>=2017.4.17 in /Users/aj/.pyenv/versions/3.8.6/lib/python3.8/site-packages (from requests>=2.23.0->pandas-profiling) (2020.11.8)\n",
      "Requirement already satisfied: MarkupSafe>=0.23 in /Users/aj/.pyenv/versions/3.8.6/lib/python3.8/site-packages (from jinja2>=2.11.1->pandas-profiling) (1.1.1)\n",
      "Requirement already satisfied: numba>=0.38.1 in /Users/aj/.pyenv/versions/3.8.6/lib/python3.8/site-packages (from phik>=0.9.10->pandas-profiling) (0.51.2)\n",
      "Requirement already satisfied: networkx>=2.4 in /Users/aj/.pyenv/versions/3.8.6/lib/python3.8/site-packages (from visions[type_image_path]==0.5.0->pandas-profiling) (2.5)\n",
      "Requirement already satisfied: imagehash; extra == \"type_image_path\" in /Users/aj/.pyenv/versions/3.8.6/lib/python3.8/site-packages (from visions[type_image_path]==0.5.0->pandas-profiling) (4.2.0)\n",
      "Requirement already satisfied: pickleshare in /Users/aj/.pyenv/versions/3.8.6/lib/python3.8/site-packages (from ipython>=4.0.0; python_version >= \"3.3\"->ipywidgets>=7.5.1->pandas-profiling) (0.7.5)\n",
      "Requirement already satisfied: pygments in /Users/aj/.pyenv/versions/3.8.6/lib/python3.8/site-packages (from ipython>=4.0.0; python_version >= \"3.3\"->ipywidgets>=7.5.1->pandas-profiling) (2.7.2)\n",
      "Requirement already satisfied: decorator in /Users/aj/.pyenv/versions/3.8.6/lib/python3.8/site-packages (from ipython>=4.0.0; python_version >= \"3.3\"->ipywidgets>=7.5.1->pandas-profiling) (4.4.2)\n",
      "Requirement already satisfied: setuptools>=18.5 in /Users/aj/.pyenv/versions/3.8.6/lib/python3.8/site-packages (from ipython>=4.0.0; python_version >= \"3.3\"->ipywidgets>=7.5.1->pandas-profiling) (49.2.1)\n",
      "Requirement already satisfied: jedi>=0.10 in /Users/aj/.pyenv/versions/3.8.6/lib/python3.8/site-packages (from ipython>=4.0.0; python_version >= \"3.3\"->ipywidgets>=7.5.1->pandas-profiling) (0.17.2)\n",
      "Requirement already satisfied: prompt-toolkit!=3.0.0,!=3.0.1,<3.1.0,>=2.0.0 in /Users/aj/.pyenv/versions/3.8.6/lib/python3.8/site-packages (from ipython>=4.0.0; python_version >= \"3.3\"->ipywidgets>=7.5.1->pandas-profiling) (3.0.8)\n",
      "Requirement already satisfied: backcall in /Users/aj/.pyenv/versions/3.8.6/lib/python3.8/site-packages (from ipython>=4.0.0; python_version >= \"3.3\"->ipywidgets>=7.5.1->pandas-profiling) (0.2.0)\n",
      "Requirement already satisfied: pexpect>4.3; sys_platform != \"win32\" in /Users/aj/.pyenv/versions/3.8.6/lib/python3.8/site-packages (from ipython>=4.0.0; python_version >= \"3.3\"->ipywidgets>=7.5.1->pandas-profiling) (4.8.0)\n",
      "Requirement already satisfied: appnope; sys_platform == \"darwin\" in /Users/aj/.pyenv/versions/3.8.6/lib/python3.8/site-packages (from ipython>=4.0.0; python_version >= \"3.3\"->ipywidgets>=7.5.1->pandas-profiling) (0.1.0)\n",
      "Requirement already satisfied: notebook>=4.4.1 in /Users/aj/.pyenv/versions/3.8.6/lib/python3.8/site-packages (from widgetsnbextension~=3.5.0->ipywidgets>=7.5.1->pandas-profiling) (6.1.5)\n",
      "Requirement already satisfied: ipython-genutils in /Users/aj/.pyenv/versions/3.8.6/lib/python3.8/site-packages (from traitlets>=4.3.1->ipywidgets>=7.5.1->pandas-profiling) (0.2.0)\n",
      "Requirement already satisfied: jupyter-core in /Users/aj/.pyenv/versions/3.8.6/lib/python3.8/site-packages (from nbformat>=4.2.0->ipywidgets>=7.5.1->pandas-profiling) (4.7.0)\n",
      "Requirement already satisfied: jsonschema!=2.5.0,>=2.4 in /Users/aj/.pyenv/versions/3.8.6/lib/python3.8/site-packages (from nbformat>=4.2.0->ipywidgets>=7.5.1->pandas-profiling) (3.2.0)\n",
      "Requirement already satisfied: tornado>=4.2 in /Users/aj/.pyenv/versions/3.8.6/lib/python3.8/site-packages (from ipykernel>=4.5.1->ipywidgets>=7.5.1->pandas-profiling) (6.1)\n",
      "Requirement already satisfied: jupyter-client in /Users/aj/.pyenv/versions/3.8.6/lib/python3.8/site-packages (from ipykernel>=4.5.1->ipywidgets>=7.5.1->pandas-profiling) (6.1.7)\n",
      "Requirement already satisfied: llvmlite<0.35,>=0.34.0.dev0 in /Users/aj/.pyenv/versions/3.8.6/lib/python3.8/site-packages (from numba>=0.38.1->phik>=0.9.10->pandas-profiling) (0.34.0)\n",
      "Requirement already satisfied: PyWavelets in /Users/aj/.pyenv/versions/3.8.6/lib/python3.8/site-packages (from imagehash; extra == \"type_image_path\"->visions[type_image_path]==0.5.0->pandas-profiling) (1.1.1)\n",
      "Requirement already satisfied: parso<0.8.0,>=0.7.0 in /Users/aj/.pyenv/versions/3.8.6/lib/python3.8/site-packages (from jedi>=0.10->ipython>=4.0.0; python_version >= \"3.3\"->ipywidgets>=7.5.1->pandas-profiling) (0.7.1)\n",
      "Requirement already satisfied: wcwidth in /Users/aj/.pyenv/versions/3.8.6/lib/python3.8/site-packages (from prompt-toolkit!=3.0.0,!=3.0.1,<3.1.0,>=2.0.0->ipython>=4.0.0; python_version >= \"3.3\"->ipywidgets>=7.5.1->pandas-profiling) (0.2.5)\n",
      "Requirement already satisfied: ptyprocess>=0.5 in /Users/aj/.pyenv/versions/3.8.6/lib/python3.8/site-packages (from pexpect>4.3; sys_platform != \"win32\"->ipython>=4.0.0; python_version >= \"3.3\"->ipywidgets>=7.5.1->pandas-profiling) (0.6.0)\n",
      "Requirement already satisfied: pyzmq>=17 in /Users/aj/.pyenv/versions/3.8.6/lib/python3.8/site-packages (from notebook>=4.4.1->widgetsnbextension~=3.5.0->ipywidgets>=7.5.1->pandas-profiling) (20.0.0)\n",
      "Requirement already satisfied: nbconvert in /Users/aj/.pyenv/versions/3.8.6/lib/python3.8/site-packages (from notebook>=4.4.1->widgetsnbextension~=3.5.0->ipywidgets>=7.5.1->pandas-profiling) (6.0.7)\n",
      "Requirement already satisfied: terminado>=0.8.3 in /Users/aj/.pyenv/versions/3.8.6/lib/python3.8/site-packages (from notebook>=4.4.1->widgetsnbextension~=3.5.0->ipywidgets>=7.5.1->pandas-profiling) (0.9.1)\n",
      "Requirement already satisfied: prometheus-client in /Users/aj/.pyenv/versions/3.8.6/lib/python3.8/site-packages (from notebook>=4.4.1->widgetsnbextension~=3.5.0->ipywidgets>=7.5.1->pandas-profiling) (0.9.0)\n",
      "Requirement already satisfied: Send2Trash in /Users/aj/.pyenv/versions/3.8.6/lib/python3.8/site-packages (from notebook>=4.4.1->widgetsnbextension~=3.5.0->ipywidgets>=7.5.1->pandas-profiling) (1.5.0)\n",
      "Requirement already satisfied: argon2-cffi in /Users/aj/.pyenv/versions/3.8.6/lib/python3.8/site-packages (from notebook>=4.4.1->widgetsnbextension~=3.5.0->ipywidgets>=7.5.1->pandas-profiling) (20.1.0)\n",
      "Requirement already satisfied: pyrsistent>=0.14.0 in /Users/aj/.pyenv/versions/3.8.6/lib/python3.8/site-packages (from jsonschema!=2.5.0,>=2.4->nbformat>=4.2.0->ipywidgets>=7.5.1->pandas-profiling) (0.17.3)\n",
      "Requirement already satisfied: nbclient<0.6.0,>=0.5.0 in /Users/aj/.pyenv/versions/3.8.6/lib/python3.8/site-packages (from nbconvert->notebook>=4.4.1->widgetsnbextension~=3.5.0->ipywidgets>=7.5.1->pandas-profiling) (0.5.1)\n",
      "Requirement already satisfied: mistune<2,>=0.8.1 in /Users/aj/.pyenv/versions/3.8.6/lib/python3.8/site-packages (from nbconvert->notebook>=4.4.1->widgetsnbextension~=3.5.0->ipywidgets>=7.5.1->pandas-profiling) (0.8.4)\n",
      "Requirement already satisfied: entrypoints>=0.2.2 in /Users/aj/.pyenv/versions/3.8.6/lib/python3.8/site-packages (from nbconvert->notebook>=4.4.1->widgetsnbextension~=3.5.0->ipywidgets>=7.5.1->pandas-profiling) (0.3)\n",
      "Requirement already satisfied: pandocfilters>=1.4.1 in /Users/aj/.pyenv/versions/3.8.6/lib/python3.8/site-packages (from nbconvert->notebook>=4.4.1->widgetsnbextension~=3.5.0->ipywidgets>=7.5.1->pandas-profiling) (1.4.3)\n",
      "Requirement already satisfied: jupyterlab-pygments in /Users/aj/.pyenv/versions/3.8.6/lib/python3.8/site-packages (from nbconvert->notebook>=4.4.1->widgetsnbextension~=3.5.0->ipywidgets>=7.5.1->pandas-profiling) (0.1.2)\n",
      "Requirement already satisfied: defusedxml in /Users/aj/.pyenv/versions/3.8.6/lib/python3.8/site-packages (from nbconvert->notebook>=4.4.1->widgetsnbextension~=3.5.0->ipywidgets>=7.5.1->pandas-profiling) (0.6.0)\n",
      "Requirement already satisfied: bleach in /Users/aj/.pyenv/versions/3.8.6/lib/python3.8/site-packages (from nbconvert->notebook>=4.4.1->widgetsnbextension~=3.5.0->ipywidgets>=7.5.1->pandas-profiling) (3.2.1)\n",
      "Requirement already satisfied: testpath in /Users/aj/.pyenv/versions/3.8.6/lib/python3.8/site-packages (from nbconvert->notebook>=4.4.1->widgetsnbextension~=3.5.0->ipywidgets>=7.5.1->pandas-profiling) (0.4.4)\n",
      "Requirement already satisfied: cffi>=1.0.0 in /Users/aj/.pyenv/versions/3.8.6/lib/python3.8/site-packages (from argon2-cffi->notebook>=4.4.1->widgetsnbextension~=3.5.0->ipywidgets>=7.5.1->pandas-profiling) (1.14.3)\n",
      "Requirement already satisfied: nest-asyncio in /Users/aj/.pyenv/versions/3.8.6/lib/python3.8/site-packages (from nbclient<0.6.0,>=0.5.0->nbconvert->notebook>=4.4.1->widgetsnbextension~=3.5.0->ipywidgets>=7.5.1->pandas-profiling) (1.4.3)\n",
      "Requirement already satisfied: async-generator in /Users/aj/.pyenv/versions/3.8.6/lib/python3.8/site-packages (from nbclient<0.6.0,>=0.5.0->nbconvert->notebook>=4.4.1->widgetsnbextension~=3.5.0->ipywidgets>=7.5.1->pandas-profiling) (1.10)\n",
      "Requirement already satisfied: packaging in /Users/aj/.pyenv/versions/3.8.6/lib/python3.8/site-packages (from bleach->nbconvert->notebook>=4.4.1->widgetsnbextension~=3.5.0->ipywidgets>=7.5.1->pandas-profiling) (20.4)\n",
      "Requirement already satisfied: webencodings in /Users/aj/.pyenv/versions/3.8.6/lib/python3.8/site-packages (from bleach->nbconvert->notebook>=4.4.1->widgetsnbextension~=3.5.0->ipywidgets>=7.5.1->pandas-profiling) (0.5.1)\n",
      "Requirement already satisfied: pycparser in /Users/aj/.pyenv/versions/3.8.6/lib/python3.8/site-packages (from cffi>=1.0.0->argon2-cffi->notebook>=4.4.1->widgetsnbextension~=3.5.0->ipywidgets>=7.5.1->pandas-profiling) (2.20)\n",
      "Installing collected packages: imbalanced-learn, imblearn\n",
      "Successfully installed imbalanced-learn-0.7.0 imblearn-0.0\n"
     ]
    }
   ],
   "source": [
    "!python -m pip install scikit-learn imblearn scipy matplotlib numpy pandas pandas-profiling seaborn"
   ]
  },
  {
   "cell_type": "code",
   "execution_count": 1,
   "metadata": {},
   "outputs": [
    {
     "output_type": "stream",
     "name": "stdout",
     "text": [
      "Requirement already satisfied: ipykernel in /Users/aj/.pyenv/versions/3.8.6/lib/python3.8/site-packages (5.3.4)\n",
      "Requirement already satisfied: tornado>=4.2 in /Users/aj/.pyenv/versions/3.8.6/lib/python3.8/site-packages (from ipykernel) (6.1)\n",
      "Requirement already satisfied: ipython>=5.0.0 in /Users/aj/.pyenv/versions/3.8.6/lib/python3.8/site-packages (from ipykernel) (7.19.0)\n",
      "Requirement already satisfied: jupyter-client in /Users/aj/.pyenv/versions/3.8.6/lib/python3.8/site-packages (from ipykernel) (6.1.7)\n",
      "Requirement already satisfied: appnope; platform_system == \"Darwin\" in /Users/aj/.pyenv/versions/3.8.6/lib/python3.8/site-packages (from ipykernel) (0.1.0)\n",
      "Requirement already satisfied: traitlets>=4.1.0 in /Users/aj/.pyenv/versions/3.8.6/lib/python3.8/site-packages (from ipykernel) (5.0.5)\n",
      "Requirement already satisfied: jedi>=0.10 in /Users/aj/.pyenv/versions/3.8.6/lib/python3.8/site-packages (from ipython>=5.0.0->ipykernel) (0.17.2)\n",
      "Requirement already satisfied: backcall in /Users/aj/.pyenv/versions/3.8.6/lib/python3.8/site-packages (from ipython>=5.0.0->ipykernel) (0.2.0)\n",
      "Requirement already satisfied: pickleshare in /Users/aj/.pyenv/versions/3.8.6/lib/python3.8/site-packages (from ipython>=5.0.0->ipykernel) (0.7.5)\n",
      "Requirement already satisfied: decorator in /Users/aj/.pyenv/versions/3.8.6/lib/python3.8/site-packages (from ipython>=5.0.0->ipykernel) (4.4.2)\n",
      "Requirement already satisfied: pexpect>4.3; sys_platform != \"win32\" in /Users/aj/.pyenv/versions/3.8.6/lib/python3.8/site-packages (from ipython>=5.0.0->ipykernel) (4.8.0)\n",
      "Requirement already satisfied: setuptools>=18.5 in /Users/aj/.pyenv/versions/3.8.6/lib/python3.8/site-packages (from ipython>=5.0.0->ipykernel) (49.2.1)\n",
      "Requirement already satisfied: prompt-toolkit!=3.0.0,!=3.0.1,<3.1.0,>=2.0.0 in /Users/aj/.pyenv/versions/3.8.6/lib/python3.8/site-packages (from ipython>=5.0.0->ipykernel) (3.0.8)\n",
      "Requirement already satisfied: pygments in /Users/aj/.pyenv/versions/3.8.6/lib/python3.8/site-packages (from ipython>=5.0.0->ipykernel) (2.7.2)\n",
      "Requirement already satisfied: pyzmq>=13 in /Users/aj/.pyenv/versions/3.8.6/lib/python3.8/site-packages (from jupyter-client->ipykernel) (20.0.0)\n",
      "Requirement already satisfied: python-dateutil>=2.1 in /Users/aj/.pyenv/versions/3.8.6/lib/python3.8/site-packages (from jupyter-client->ipykernel) (2.8.1)\n",
      "Requirement already satisfied: jupyter-core>=4.6.0 in /Users/aj/.pyenv/versions/3.8.6/lib/python3.8/site-packages (from jupyter-client->ipykernel) (4.7.0)\n",
      "Requirement already satisfied: ipython-genutils in /Users/aj/.pyenv/versions/3.8.6/lib/python3.8/site-packages (from traitlets>=4.1.0->ipykernel) (0.2.0)\n",
      "Requirement already satisfied: parso<0.8.0,>=0.7.0 in /Users/aj/.pyenv/versions/3.8.6/lib/python3.8/site-packages (from jedi>=0.10->ipython>=5.0.0->ipykernel) (0.7.1)\n",
      "Requirement already satisfied: ptyprocess>=0.5 in /Users/aj/.pyenv/versions/3.8.6/lib/python3.8/site-packages (from pexpect>4.3; sys_platform != \"win32\"->ipython>=5.0.0->ipykernel) (0.6.0)\n",
      "Requirement already satisfied: wcwidth in /Users/aj/.pyenv/versions/3.8.6/lib/python3.8/site-packages (from prompt-toolkit!=3.0.0,!=3.0.1,<3.1.0,>=2.0.0->ipython>=5.0.0->ipykernel) (0.2.5)\n",
      "Requirement already satisfied: six>=1.5 in /Users/aj/.pyenv/versions/3.8.6/lib/python3.8/site-packages (from python-dateutil>=2.1->jupyter-client->ipykernel) (1.15.0)\n"
     ]
    }
   ],
   "source": [
    "#notebook support kernel\n",
    "!python -m pip install ipykernel "
   ]
  },
  {
   "cell_type": "code",
   "execution_count": 1,
   "metadata": {},
   "outputs": [
    {
     "output_type": "stream",
     "name": "stdout",
     "text": [
      "Python 3.8.6\n"
     ]
    }
   ],
   "source": [
    "!python --version"
   ]
  },
  {
   "cell_type": "code",
   "execution_count": 2,
   "metadata": {},
   "outputs": [
    {
     "output_type": "stream",
     "name": "stdout",
     "text": [
      "/Users/aj/projects/sklearn/notebooks\n"
     ]
    }
   ],
   "source": [
    "!pwd"
   ]
  },
  {
   "cell_type": "code",
   "execution_count": 3,
   "metadata": {},
   "outputs": [],
   "source": [
    "import numpy as np\n",
    "import pandas as pd\n",
    "import pandas_profiling\n",
    "\n",
    "import pickle\n",
    "\n",
    "from sklearn import datasets\n",
    "\n",
    "from sklearn.pipeline import Pipeline\n",
    "from sklearn.compose import ColumnTransformer\n",
    "from sklearn.impute import SimpleImputer\n",
    "from sklearn.preprocessing import StandardScaler, MinMaxScaler, OneHotEncoder\n",
    "\n",
    "from imblearn.over_sampling import SMOTE\n",
    "from imblearn.under_sampling import RandomUnderSampler\n",
    "\n",
    "from sklearn.model_selection import train_test_split\n",
    "from sklearn.model_selection import GridSearchCV\n",
    "\n",
    "from sklearn.feature_selection import SelectKBest\n",
    "from sklearn.feature_selection import chi2\n",
    "\n",
    "from sklearn.linear_model import LogisticRegression\n",
    "from sklearn.ensemble import RandomForestClassifier\n",
    "from sklearn import svm\n",
    "from sklearn import metrics\n"
   ]
  },
  {
   "cell_type": "code",
   "execution_count": 3,
   "metadata": {},
   "outputs": [
    {
     "output_type": "stream",
     "name": "stdout",
     "text": [
      "<class 'sklearn.utils.Bunch'>\nDESCR\ndata\nfeature_names\nfilename\nframe\ntarget\ntarget_names\n"
     ]
    }
   ],
   "source": [
    "# Load the dataset and examine\n",
    "\n",
    "data = datasets.load_iris()\n",
    "\n",
    "print(type(data))\n",
    "for attr in dir(data):\n",
    "    print(attr)\n",
    "\n"
   ]
  },
  {
   "cell_type": "code",
   "execution_count": 4,
   "metadata": {},
   "outputs": [
    {
     "output_type": "stream",
     "name": "stdout",
     "text": [
      "DESCR .. _iris_dataset:\n\nIris plants dataset\n--------------------\n\n**Data Set Characteristics:**\n\n    :Number of Instances: 150 (50 in each of three classes)\n    :Number of Attributes: 4 numeric, predictive attributes and the class\n    :Attribute Information:\n        - sepal length in cm\n        - sepal width in cm\n        - petal length in cm\n        - petal width in cm\n        - class:\n                - Iris-Setosa\n                - Iris-Versicolour\n                - Iris-Virginica\n                \n    :Summary Statistics:\n\n    ============== ==== ==== ======= ===== ====================\n                    Min  Max   Mean    SD   Class Correlation\n    ============== ==== ==== ======= ===== ====================\n    sepal length:   4.3  7.9   5.84   0.83    0.7826\n    sepal width:    2.0  4.4   3.05   0.43   -0.4194\n    petal length:   1.0  6.9   3.76   1.76    0.9490  (high!)\n    petal width:    0.1  2.5   1.20   0.76    0.9565  (high!)\n    ============== ==== ==== ======= ===== ====================\n\n    :Missing Attribute Values: None\n    :Class Distribution: 33.3% for each of 3 classes.\n    :Creator: R.A. Fisher\n    :Donor: Michael Marshall (MARSHALL%PLU@io.arc.nasa.gov)\n    :Date: July, 1988\n\nThe famous Iris database, first used by Sir R.A. Fisher. The dataset is taken\nfrom Fisher's paper. Note that it's the same as in R, but not as in the UCI\nMachine Learning Repository, which has two wrong data points.\n\nThis is perhaps the best known database to be found in the\npattern recognition literature.  Fisher's paper is a classic in the field and\nis referenced frequently to this day.  (See Duda & Hart, for example.)  The\ndata set contains 3 classes of 50 instances each, where each class refers to a\ntype of iris plant.  One class is linearly separable from the other 2; the\nlatter are NOT linearly separable from each other.\n\n.. topic:: References\n\n   - Fisher, R.A. \"The use of multiple measurements in taxonomic problems\"\n     Annual Eugenics, 7, Part II, 179-188 (1936); also in \"Contributions to\n     Mathematical Statistics\" (John Wiley, NY, 1950).\n   - Duda, R.O., & Hart, P.E. (1973) Pattern Classification and Scene Analysis.\n     (Q327.D83) John Wiley & Sons.  ISBN 0-471-22361-1.  See page 218.\n   - Dasarathy, B.V. (1980) \"Nosing Around the Neighborhood: A New System\n     Structure and Classification Rule for Recognition in Partially Exposed\n     Environments\".  IEEE Transactions on Pattern Analysis and Machine\n     Intelligence, Vol. PAMI-2, No. 1, 67-71.\n   - Gates, G.W. (1972) \"The Reduced Nearest Neighbor Rule\".  IEEE Transactions\n     on Information Theory, May 1972, 431-433.\n   - See also: 1988 MLC Proceedings, 54-64.  Cheeseman et al\"s AUTOCLASS II\n     conceptual clustering system finds 3 classes in the data.\n   - Many, many more ...\ndata [[5.1 3.5 1.4 0.2]\n [4.9 3.  1.4 0.2]\n [4.7 3.2 1.3 0.2]\n [4.6 3.1 1.5 0.2]\n [5.  3.6 1.4 0.2]\n [5.4 3.9 1.7 0.4]\n [4.6 3.4 1.4 0.3]\n [5.  3.4 1.5 0.2]\n [4.4 2.9 1.4 0.2]\n [4.9 3.1 1.5 0.1]\n [5.4 3.7 1.5 0.2]\n [4.8 3.4 1.6 0.2]\n [4.8 3.  1.4 0.1]\n [4.3 3.  1.1 0.1]\n [5.8 4.  1.2 0.2]\n [5.7 4.4 1.5 0.4]\n [5.4 3.9 1.3 0.4]\n [5.1 3.5 1.4 0.3]\n [5.7 3.8 1.7 0.3]\n [5.1 3.8 1.5 0.3]\n [5.4 3.4 1.7 0.2]\n [5.1 3.7 1.5 0.4]\n [4.6 3.6 1.  0.2]\n [5.1 3.3 1.7 0.5]\n [4.8 3.4 1.9 0.2]\n [5.  3.  1.6 0.2]\n [5.  3.4 1.6 0.4]\n [5.2 3.5 1.5 0.2]\n [5.2 3.4 1.4 0.2]\n [4.7 3.2 1.6 0.2]\n [4.8 3.1 1.6 0.2]\n [5.4 3.4 1.5 0.4]\n [5.2 4.1 1.5 0.1]\n [5.5 4.2 1.4 0.2]\n [4.9 3.1 1.5 0.2]\n [5.  3.2 1.2 0.2]\n [5.5 3.5 1.3 0.2]\n [4.9 3.6 1.4 0.1]\n [4.4 3.  1.3 0.2]\n [5.1 3.4 1.5 0.2]\n [5.  3.5 1.3 0.3]\n [4.5 2.3 1.3 0.3]\n [4.4 3.2 1.3 0.2]\n [5.  3.5 1.6 0.6]\n [5.1 3.8 1.9 0.4]\n [4.8 3.  1.4 0.3]\n [5.1 3.8 1.6 0.2]\n [4.6 3.2 1.4 0.2]\n [5.3 3.7 1.5 0.2]\n [5.  3.3 1.4 0.2]\n [7.  3.2 4.7 1.4]\n [6.4 3.2 4.5 1.5]\n [6.9 3.1 4.9 1.5]\n [5.5 2.3 4.  1.3]\n [6.5 2.8 4.6 1.5]\n [5.7 2.8 4.5 1.3]\n [6.3 3.3 4.7 1.6]\n [4.9 2.4 3.3 1. ]\n [6.6 2.9 4.6 1.3]\n [5.2 2.7 3.9 1.4]\n [5.  2.  3.5 1. ]\n [5.9 3.  4.2 1.5]\n [6.  2.2 4.  1. ]\n [6.1 2.9 4.7 1.4]\n [5.6 2.9 3.6 1.3]\n [6.7 3.1 4.4 1.4]\n [5.6 3.  4.5 1.5]\n [5.8 2.7 4.1 1. ]\n [6.2 2.2 4.5 1.5]\n [5.6 2.5 3.9 1.1]\n [5.9 3.2 4.8 1.8]\n [6.1 2.8 4.  1.3]\n [6.3 2.5 4.9 1.5]\n [6.1 2.8 4.7 1.2]\n [6.4 2.9 4.3 1.3]\n [6.6 3.  4.4 1.4]\n [6.8 2.8 4.8 1.4]\n [6.7 3.  5.  1.7]\n [6.  2.9 4.5 1.5]\n [5.7 2.6 3.5 1. ]\n [5.5 2.4 3.8 1.1]\n [5.5 2.4 3.7 1. ]\n [5.8 2.7 3.9 1.2]\n [6.  2.7 5.1 1.6]\n [5.4 3.  4.5 1.5]\n [6.  3.4 4.5 1.6]\n [6.7 3.1 4.7 1.5]\n [6.3 2.3 4.4 1.3]\n [5.6 3.  4.1 1.3]\n [5.5 2.5 4.  1.3]\n [5.5 2.6 4.4 1.2]\n [6.1 3.  4.6 1.4]\n [5.8 2.6 4.  1.2]\n [5.  2.3 3.3 1. ]\n [5.6 2.7 4.2 1.3]\n [5.7 3.  4.2 1.2]\n [5.7 2.9 4.2 1.3]\n [6.2 2.9 4.3 1.3]\n [5.1 2.5 3.  1.1]\n [5.7 2.8 4.1 1.3]\n [6.3 3.3 6.  2.5]\n [5.8 2.7 5.1 1.9]\n [7.1 3.  5.9 2.1]\n [6.3 2.9 5.6 1.8]\n [6.5 3.  5.8 2.2]\n [7.6 3.  6.6 2.1]\n [4.9 2.5 4.5 1.7]\n [7.3 2.9 6.3 1.8]\n [6.7 2.5 5.8 1.8]\n [7.2 3.6 6.1 2.5]\n [6.5 3.2 5.1 2. ]\n [6.4 2.7 5.3 1.9]\n [6.8 3.  5.5 2.1]\n [5.7 2.5 5.  2. ]\n [5.8 2.8 5.1 2.4]\n [6.4 3.2 5.3 2.3]\n [6.5 3.  5.5 1.8]\n [7.7 3.8 6.7 2.2]\n [7.7 2.6 6.9 2.3]\n [6.  2.2 5.  1.5]\n [6.9 3.2 5.7 2.3]\n [5.6 2.8 4.9 2. ]\n [7.7 2.8 6.7 2. ]\n [6.3 2.7 4.9 1.8]\n [6.7 3.3 5.7 2.1]\n [7.2 3.2 6.  1.8]\n [6.2 2.8 4.8 1.8]\n [6.1 3.  4.9 1.8]\n [6.4 2.8 5.6 2.1]\n [7.2 3.  5.8 1.6]\n [7.4 2.8 6.1 1.9]\n [7.9 3.8 6.4 2. ]\n [6.4 2.8 5.6 2.2]\n [6.3 2.8 5.1 1.5]\n [6.1 2.6 5.6 1.4]\n [7.7 3.  6.1 2.3]\n [6.3 3.4 5.6 2.4]\n [6.4 3.1 5.5 1.8]\n [6.  3.  4.8 1.8]\n [6.9 3.1 5.4 2.1]\n [6.7 3.1 5.6 2.4]\n [6.9 3.1 5.1 2.3]\n [5.8 2.7 5.1 1.9]\n [6.8 3.2 5.9 2.3]\n [6.7 3.3 5.7 2.5]\n [6.7 3.  5.2 2.3]\n [6.3 2.5 5.  1.9]\n [6.5 3.  5.2 2. ]\n [6.2 3.4 5.4 2.3]\n [5.9 3.  5.1 1.8]]\nfeature_names ['sepal length (cm)', 'sepal width (cm)', 'petal length (cm)', 'petal width (cm)']\nfilename /Users/aj/.pyenv/versions/3.8.6/lib/python3.8/site-packages/sklearn/datasets/data/iris.csv\nframe None\ntarget [0 0 0 0 0 0 0 0 0 0 0 0 0 0 0 0 0 0 0 0 0 0 0 0 0 0 0 0 0 0 0 0 0 0 0 0 0\n 0 0 0 0 0 0 0 0 0 0 0 0 0 1 1 1 1 1 1 1 1 1 1 1 1 1 1 1 1 1 1 1 1 1 1 1 1\n 1 1 1 1 1 1 1 1 1 1 1 1 1 1 1 1 1 1 1 1 1 1 1 1 1 1 2 2 2 2 2 2 2 2 2 2 2\n 2 2 2 2 2 2 2 2 2 2 2 2 2 2 2 2 2 2 2 2 2 2 2 2 2 2 2 2 2 2 2 2 2 2 2 2 2\n 2 2]\ntarget_names ['setosa' 'versicolor' 'virginica']\n"
     ]
    }
   ],
   "source": [
    "# Detailed examination\n",
    "for attr in dir(data):\n",
    "    print(attr, getattr(data,attr))"
   ]
  },
  {
   "cell_type": "code",
   "execution_count": 93,
   "metadata": {},
   "outputs": [],
   "source": [
    "# split data into train and test sets\n",
    "seed = 7\n",
    "test_size = 0.33\n",
    "\n",
    "x_train, x_test, y_train, y_test = train_test_split(data.data, data.target, test_size=test_size, random_state=seed)"
   ]
  },
  {
   "cell_type": "code",
   "execution_count": 94,
   "metadata": {},
   "outputs": [],
   "source": [
    "# Parameter search grid can have info for several classifier algos; pipeline defintion picks which one\n",
    "param_grid = [\n",
    "    {'classifier' : [LogisticRegression()],\n",
    "     'classifier__penalty' : ['l1', 'l2'],\n",
    "    'classifier__C' : np.logspace(-4, 4, 20),\n",
    "    'classifier__solver' : ['liblinear']},\n",
    "\n",
    "    {'classifier' : [RandomForestClassifier()],\n",
    "    'classifier__n_estimators' : list(range(10,101,10)),\n",
    "    'classifier__max_features' : list(range(2,3))}\n",
    "]"
   ]
  },
  {
   "cell_type": "code",
   "execution_count": 95,
   "metadata": {},
   "outputs": [
    {
     "output_type": "stream",
     "name": "stdout",
     "text": [
      "Fitting 5 folds for each of 50 candidates, totalling 250 fits\n",
      "[Parallel(n_jobs=-1)]: Using backend LokyBackend with 12 concurrent workers.\n",
      "[Parallel(n_jobs=-1)]: Done  26 tasks      | elapsed:    1.7s\n",
      "[Parallel(n_jobs=-1)]: Done 250 out of 250 | elapsed:    2.4s finished\n"
     ]
    }
   ],
   "source": [
    "# Define pipeline\n",
    "pipeline = Pipeline([\n",
    "      ('feature_selection', SelectKBest(chi2, k=2)),\n",
    "      ('classifier', RandomForestClassifier())\n",
    "    ])\n",
    "\n",
    "# Create grid search object\n",
    "model = GridSearchCV(pipeline, param_grid = param_grid, cv = 5, verbose=True, n_jobs=-1)\n",
    "\n",
    "# Fit grid search on training data\n",
    "model.fit(x_train, y_train)\n",
    "\n",
    "# Export the classifier to a file\n",
    "with open('../models/model02.pkl', 'wb') as model_file:\n",
    "  pickle.dump(model, model_file)"
   ]
  },
  {
   "cell_type": "code",
   "execution_count": 96,
   "metadata": {},
   "outputs": [],
   "source": [
    "# Make predictions\n",
    "y_true = y_test\n",
    "y_pred = model.predict(x_test)\n"
   ]
  },
  {
   "cell_type": "code",
   "execution_count": 97,
   "metadata": {},
   "outputs": [
    {
     "output_type": "stream",
     "name": "stdout",
     "text": [
      "        pred:0  pred:1  pred:2\ntrue:0      14       0       0\ntrue:1       0      16       2\ntrue:2       0       2      16\n"
     ]
    }
   ],
   "source": [
    "# Show confusion matrix with labels\n",
    "\n",
    "unique_label = np.unique([y_true, y_pred])\n",
    "cmtx = pd.DataFrame(\n",
    "    metrics.confusion_matrix(y_true, y_pred, labels=unique_label), \n",
    "    index=['true:{:}'.format(x) for x in unique_label], \n",
    "    columns=['pred:{:}'.format(x) for x in unique_label]\n",
    ")\n",
    "print(cmtx)"
   ]
  },
  {
   "cell_type": "code",
   "execution_count": 98,
   "metadata": {},
   "outputs": [
    {
     "output_type": "stream",
     "name": "stdout",
     "text": [
      "              precision    recall  f1-score   support\n\n           0       1.00      1.00      1.00        14\n           1       0.89      0.89      0.89        18\n           2       0.89      0.89      0.89        18\n\n    accuracy                           0.92        50\n   macro avg       0.93      0.93      0.93        50\nweighted avg       0.92      0.92      0.92        50\n\n"
     ]
    }
   ],
   "source": [
    "print(metrics.classification_report(y_true, y_pred))"
   ]
  },
  {
   "cell_type": "code",
   "execution_count": 52,
   "metadata": {},
   "outputs": [],
   "source": [
    "# ROC\n",
    "# Doesn't work for multiclass problems, only binary classifiers\n",
    "# metrics.roc_auc_score(y_test, y_pred)\n"
   ]
  },
  {
   "cell_type": "code",
   "execution_count": 99,
   "metadata": {},
   "outputs": [
    {
     "output_type": "stream",
     "name": "stdout",
     "text": [
      "X=[6, 3, 1.8, 1.4], Predicted=1, Probabilities=[0.4 0.6 0. ]\nX=[4, 3, 1.5, 0.2], Predicted=0, Probabilities=[1. 0. 0.]\n"
     ]
    }
   ],
   "source": [
    "# Get predictions & probabilities on a new data set\n",
    "\n",
    "x_new = [[6, 3, 1.8, 1.4], [4, 3, 1.5, 0.2]]\n",
    "y_new = model.predict(x_new)\n",
    "prob_new = model.predict_proba(x_new)\n",
    "\n",
    "for i in range(len(x_new)):\n",
    "\tprint(\"X=%s, Predicted=%s, Probabilities=%s\" % (x_new[i], y_new[i], prob_new[i]))\n",
    "\n"
   ]
  },
  {
   "cell_type": "code",
   "execution_count": 100,
   "metadata": {},
   "outputs": [
    {
     "output_type": "stream",
     "name": "stdout",
     "text": [
      "__abstractmethods__\n__class__\n__delattr__\n__dict__\n__dir__\n__doc__\n__eq__\n__format__\n__ge__\n__getattribute__\n__getstate__\n__gt__\n__hash__\n__init__\n__init_subclass__\n__le__\n__lt__\n__module__\n__ne__\n__new__\n__reduce__\n__reduce_ex__\n__repr__\n__setattr__\n__setstate__\n__sizeof__\n__str__\n__subclasshook__\n__weakref__\n_abc_impl\n_check_is_fitted\n_check_n_features\n_estimator_type\n_format_results\n_get_param_names\n_get_tags\n_more_tags\n_pairwise\n_repr_html_\n_repr_html_inner\n_repr_mimebundle_\n_required_parameters\n_run_search\n_validate_data\nbest_estimator_\nbest_index_\nbest_params_\nbest_score_\nclasses_\ncv\ncv_results_\ndecision_function\nerror_score\nestimator\nfit\nget_params\niid\ninverse_transform\nmultimetric_\nn_features_in_\nn_jobs\nn_splits_\nparam_grid\npre_dispatch\npredict\npredict_log_proba\npredict_proba\nrefit\nrefit_time_\nreturn_train_score\nscore\nscorer_\nscoring\nset_params\ntransform\nverbose\n"
     ]
    }
   ],
   "source": [
    "# List of attributes of model\n",
    "\n",
    "for attr in dir(model):\n",
    "    print(attr)\n"
   ]
  },
  {
   "cell_type": "code",
   "execution_count": 5,
   "metadata": {},
   "outputs": [],
   "source": [
    "click_data = pd.read_csv('../data/ready/sample_from_GA.csv', skiprows=6)\n"
   ]
  },
  {
   "cell_type": "code",
   "execution_count": 6,
   "metadata": {},
   "outputs": [
    {
     "output_type": "stream",
     "name": "stdout",
     "text": [
      "    Source Device Category    Age                        Region  \\\n0  Taboola         desktop  25-34               New South Wales   \n1   google         desktop  45-54  Australian Capital Territory   \n2  MNative         desktop  35-44               New South Wales   \n3     bing         desktop  55-64  Australian Capital Territory   \n4  MNative         desktop    65+             Western Australia   \n\n           User Type Home Loan GTS (Goal 1 Conversion Rate)  Users  \n0        New Visitor                                 33.85%     65  \n1  Returning Visitor                                 30.36%     43  \n2  Returning Visitor                                 30.36%     56  \n3        New Visitor                                 23.21%     56  \n4  Returning Visitor                                 21.31%     61  \nRows: 10\n           Users\ncount  10.000000\nmean   54.000000\nstd    10.198039\nmin    43.000000\n25%    43.000000\n50%    56.000000\n75%    61.000000\nmax    69.000000\n"
     ]
    }
   ],
   "source": [
    "print(click_data.head())\n",
    "print('Rows: ' + str(len(click_data)))\n",
    "print(click_data.describe())\n",
    "\n"
   ]
  },
  {
   "cell_type": "code",
   "execution_count": 18,
   "metadata": {},
   "outputs": [
    {
     "output_type": "stream",
     "name": "stderr",
     "text": [
      "Summarize dataset: 100%|██████████| 32/32 [00:22<00:00,  1.41it/s, Completed]\n",
      "Generate report structure: 100%|██████████| 1/1 [00:05<00:00,  5.26s/it]\n",
      "Render HTML: 100%|██████████| 1/1 [00:02<00:00,  2.66s/it]\n",
      "Export report to file: 100%|██████████| 1/1 [00:00<00:00, 80.13it/s]\n"
     ]
    }
   ],
   "source": [
    "profile = click_data.profile_report(title='Profiling Report')\n",
    "profile.to_file(output_file=\"profiling.html\")"
   ]
  },
  {
   "cell_type": "code",
   "execution_count": 77,
   "metadata": {},
   "outputs": [],
   "source": [
    "# define the independent variables [lists]\n",
    "numeric_features = ['Time_of_day', 'position', 'rate_var', 'Big4Weight', 'TotalImpressions']\n",
    "categorical_features = ['Region', 'weekday', 'device', 'Browser_OS', 'provider_name', 'click_type', 'experts_choice', 'LoanType']\n",
    "# define the target variable 'string'\n",
    "target_column = 'target'\n"
   ]
  },
  {
   "cell_type": "code",
   "execution_count": 78,
   "metadata": {},
   "outputs": [],
   "source": [
    "# create feature data and target data\n",
    "data = click_data[numeric_features + categorical_features + ['target']]\n",
    "target = click_data[target_column]"
   ]
  },
  {
   "cell_type": "code",
   "execution_count": 108,
   "metadata": {},
   "outputs": [],
   "source": [
    "# split data into train and test sets\n",
    "seed = 7\n",
    "test_size = 0.33\n",
    "\n",
    "x_train, x_test, y_train, y_test = train_test_split(data, target, test_size=test_size, random_state=seed)"
   ]
  },
  {
   "cell_type": "code",
   "execution_count": 109,
   "metadata": {},
   "outputs": [],
   "source": [
    "# column transformation steps\n",
    "\n",
    "### TBC Should these be done before the train/test split...???\n",
    "\n",
    "numeric_transformer = Pipeline([\n",
    "    ('imputer', SimpleImputer(strategy='median')),\n",
    "    #('scaler', StandardScaler()),\n",
    "    ('scaler', MinMaxScaler())])\n",
    "\n",
    "categorical_transformer = Pipeline([\n",
    "    ('imputer', SimpleImputer(strategy='constant', fill_value='missing')),\n",
    "    ('onehot', OneHotEncoder(handle_unknown='ignore'))])\n",
    "\n",
    "preprocessor = ColumnTransformer(\n",
    "    transformers=[\n",
    "        ('num', numeric_transformer, numeric_features),\n",
    "        ('cat', categorical_transformer, categorical_features)])\n"
   ]
  },
  {
   "cell_type": "code",
   "execution_count": 113,
   "metadata": {},
   "outputs": [],
   "source": [
    "# imbalanced class steps\n",
    "\n",
    "oversample = SMOTE(sampling_strategy=0.1) # resulting minority class / majority class\n",
    "undersample = RandomUnderSampler(sampling_strategy=0.4) # resulting minority class / majority class\n"
   ]
  },
  {
   "cell_type": "code",
   "execution_count": 121,
   "metadata": {},
   "outputs": [],
   "source": [
    "# Parameter search grid can have info for several classifier algos; pipeline defintion picks which one\n",
    "param_grid = [\n",
    "    {'classifier' : [RandomForestClassifier()],\n",
    "    'classifier__n_estimators' : [100, 120, 300, 500],\n",
    "    'classifier__min_samples_leaf' : [1, 2, 5]},\n",
    "    {'classifier' : [LogisticRegression()],\n",
    "    'classifier__penalty' : ['elasticnet'],\n",
    "    'classifier__solver' : ['saga']}\n",
    "]"
   ]
  },
  {
   "cell_type": "code",
   "execution_count": 115,
   "metadata": {},
   "outputs": [
    {
     "output_type": "stream",
     "name": "stdout",
     "text": [
      "Fitting 5 folds for each of 12 candidates, totalling 60 fits\n",
      "[Parallel(n_jobs=-1)]: Using backend LokyBackend with 12 concurrent workers.\n",
      "[Parallel(n_jobs=-1)]: Done  26 tasks      | elapsed:  5.2min\n",
      "[Parallel(n_jobs=-1)]: Done  60 out of  60 | elapsed:  9.5min finished\n"
     ]
    }
   ],
   "source": [
    "# Define pipeline\n",
    "\n",
    "# we are using SMOTE oversampling, so we need an imbalanced-ready pipeline not the standard sklearn pipeline\n",
    "from imblearn.pipeline import Pipeline as imbPipeline\n",
    "\n",
    "pipeline = imbPipeline([\n",
    "     ('preprocessor', preprocessor),\n",
    "     ('over', oversample),\n",
    "     ('under', undersample),\n",
    "     # ('feature_selection', SelectKBest(chi2, k=2)),\n",
    "     ('classifier',LogisticRegression())\n",
    "     # ('classifier', RandomForestClassifier())\n",
    "    ])\n",
    "\n",
    "# Create grid search object\n",
    "model = GridSearchCV(pipeline, param_grid = param_grid, cv = 5, verbose=True, n_jobs=-1)\n",
    "\n",
    "# Fit grid search on training data\n",
    "model.fit(x_train, y_train)\n",
    "\n",
    "# Export the classifier to a file\n",
    "with open('../models/model03.pkl', 'wb') as model_file:\n",
    "  pickle.dump(model, model_file)"
   ]
  },
  {
   "cell_type": "code",
   "execution_count": 116,
   "metadata": {},
   "outputs": [],
   "source": [
    "# Make predictions\n",
    "y_true = y_test\n",
    "y_pred = model.predict(x_test)"
   ]
  },
  {
   "cell_type": "code",
   "execution_count": 117,
   "metadata": {},
   "outputs": [
    {
     "output_type": "stream",
     "name": "stdout",
     "text": [
      "(58579,)\n(58579,)\n"
     ]
    }
   ],
   "source": [
    "print(y_true.shape)\n",
    "print(y_pred.shape)"
   ]
  },
  {
   "cell_type": "code",
   "execution_count": 118,
   "metadata": {},
   "outputs": [
    {
     "output_type": "stream",
     "name": "stdout",
     "text": [
      "        pred:0  pred:1\ntrue:0   56938     502\ntrue:1    1102      37\n"
     ]
    }
   ],
   "source": [
    "# Show confusion matrix with labels\n",
    "\n",
    "unique_label = np.unique([y_true, y_pred])\n",
    "cmtx = pd.DataFrame(\n",
    "    metrics.confusion_matrix(y_true, y_pred, labels=unique_label), \n",
    "    index=['true:{:}'.format(x) for x in unique_label], \n",
    "    columns=['pred:{:}'.format(x) for x in unique_label]\n",
    ")\n",
    "print(cmtx)"
   ]
  },
  {
   "cell_type": "code",
   "execution_count": 119,
   "metadata": {},
   "outputs": [
    {
     "output_type": "stream",
     "name": "stdout",
     "text": [
      "              precision    recall  f1-score   support\n\n           0       0.98      0.99      0.99     57440\n           1       0.07      0.03      0.04      1139\n\n    accuracy                           0.97     58579\n   macro avg       0.52      0.51      0.52     58579\nweighted avg       0.96      0.97      0.97     58579\n\n"
     ]
    }
   ],
   "source": [
    "p = metrics.classification_report(y_true, y_pred)\n",
    "print(p)"
   ]
  },
  {
   "cell_type": "code",
   "execution_count": null,
   "metadata": {},
   "outputs": [],
   "source": [
    "experimentList = [pipeline, model, cmtx, p]\n",
    "\n",
    "# Export the classifier to a file\n",
    "with open('../models/model03.pkl', 'wb') as model_file:\n",
    "  pickle.dump(model, model_file)"
   ]
  }
 ]
}